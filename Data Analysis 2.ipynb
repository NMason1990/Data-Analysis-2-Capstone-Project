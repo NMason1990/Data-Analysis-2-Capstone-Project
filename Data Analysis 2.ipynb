{
 "cells": [
  {
   "cell_type": "code",
   "execution_count": 11,
   "metadata": {},
   "outputs": [
    {
     "name": "stdout",
     "output_type": "stream",
     "text": [
      "{'message': ''}\n"
     ]
    }
   ],
   "source": [
    "import requests\n",
    "import time\n",
    "import hashlib\n",
    "import hmac\n",
    "\n",
    "# API credentials\n",
    "api_token = \"83127410b6853918534d5b7fce925f33d70a19f7eee9d283cc9427d1a7f0968a\"\n",
    "api_secret = \"33bbd7c300ac6c8ae20094698196255152428d72abec4fef38ce7df5c3c8b3da\"\n",
    "\n",
    "# API endpoint\n",
    "url = \"https://api.fabdb.net/decks/\"\n",
    "\n",
    "# Generate the current timestamp\n",
    "current_time = str(int(time.time()))\n",
    "\n",
    "# Construct the query string\n",
    "query_string = f\"time={current_time}\"\n",
    "\n",
    "# Generate the hash using SHA512\n",
    "hash_string = hmac.new(api_secret.encode(), query_string.encode(), hashlib.sha512).hexdigest()\n",
    "\n",
    "# Add the hash to the query string\n",
    "query_string += f\"&hash={hash_string}\"\n",
    "\n",
    "# Set the headers with the API token\n",
    "headers = {\n",
    "    'Accept': 'application/json',\n",
    "    'Authorization': f'Bearer {secret_token}',\n",
    "}\n",
    "\n",
    "\n",
    "# Send the request\n",
    "response = requests.get(url, params=query_string, headers=headers)\n",
    "\n",
    "# Print the response\n",
    "print(response.json())\n"
   ]
  }
 ],
 "metadata": {
  "kernelspec": {
   "display_name": "base",
   "language": "python",
   "name": "python3"
  },
  "language_info": {
   "codemirror_mode": {
    "name": "ipython",
    "version": 3
   },
   "file_extension": ".py",
   "mimetype": "text/x-python",
   "name": "python",
   "nbconvert_exporter": "python",
   "pygments_lexer": "ipython3",
   "version": "3.9.13"
  },
  "orig_nbformat": 4
 },
 "nbformat": 4,
 "nbformat_minor": 2
}
